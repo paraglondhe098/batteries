{
 "cells": [
  {
   "cell_type": "code",
   "execution_count": 1,
   "metadata": {
    "collapsed": true,
    "ExecuteTime": {
     "end_time": "2024-12-19T05:59:28.981545600Z",
     "start_time": "2024-12-19T05:59:26.239323200Z"
    }
   },
   "outputs": [],
   "source": [
    "from furnance.trainer import Trainer\n",
    "from furnance.callbacks import Callback"
   ]
  },
  {
   "cell_type": "code",
   "execution_count": 2,
   "outputs": [],
   "source": [
    "import torch"
   ],
   "metadata": {
    "collapsed": false,
    "ExecuteTime": {
     "end_time": "2024-12-19T05:59:28.996716900Z",
     "start_time": "2024-12-19T05:59:28.983933200Z"
    }
   }
  },
  {
   "cell_type": "code",
   "execution_count": 3,
   "outputs": [
    {
     "data": {
      "text/plain": "device(type='cuda')"
     },
     "execution_count": 3,
     "metadata": {},
     "output_type": "execute_result"
    }
   ],
   "source": [
    "device = torch.device('cuda' if torch.cuda.is_available() else 'cpu')\n",
    "device"
   ],
   "metadata": {
    "collapsed": false,
    "ExecuteTime": {
     "end_time": "2024-12-19T05:59:29.032516900Z",
     "start_time": "2024-12-19T05:59:29.014718700Z"
    }
   }
  },
  {
   "cell_type": "code",
   "execution_count": 4,
   "outputs": [],
   "source": [
    "from torchvision.datasets import MNIST"
   ],
   "metadata": {
    "collapsed": false,
    "ExecuteTime": {
     "end_time": "2024-12-19T05:59:30.589313900Z",
     "start_time": "2024-12-19T05:59:29.028861600Z"
    }
   }
  },
  {
   "cell_type": "code",
   "execution_count": 5,
   "outputs": [],
   "source": [
    "from torch.utils.data import DataLoader\n",
    "from torchvision.transforms import transforms"
   ],
   "metadata": {
    "collapsed": false,
    "ExecuteTime": {
     "end_time": "2024-12-19T05:59:30.605290100Z",
     "start_time": "2024-12-19T05:59:30.592669800Z"
    }
   }
  },
  {
   "cell_type": "code",
   "execution_count": 6,
   "outputs": [
    {
     "name": "stdout",
     "output_type": "stream",
     "text": [
      "2.5.1+cu124\n",
      "12.4\n"
     ]
    }
   ],
   "source": [
    "import torch\n",
    "print(torch.__version__)\n",
    "print(torch.version.cuda)  # Displays CUDA version"
   ],
   "metadata": {
    "collapsed": false,
    "ExecuteTime": {
     "end_time": "2024-12-19T05:59:30.649912800Z",
     "start_time": "2024-12-19T05:59:30.607955200Z"
    }
   }
  },
  {
   "cell_type": "code",
   "execution_count": 7,
   "outputs": [
    {
     "name": "stdout",
     "output_type": "stream",
     "text": [
      "nvcc: NVIDIA (R) Cuda compiler driver\n",
      "Copyright (c) 2005-2024 NVIDIA Corporation\n",
      "Built on Tue_Feb_27_16:28:36_Pacific_Standard_Time_2024\n",
      "Cuda compilation tools, release 12.4, V12.4.99\n",
      "Build cuda_12.4.r12.4/compiler.33961263_0\n"
     ]
    }
   ],
   "source": [
    "!nvcc --version"
   ],
   "metadata": {
    "collapsed": false,
    "ExecuteTime": {
     "end_time": "2024-12-19T05:59:30.711602Z",
     "start_time": "2024-12-19T05:59:30.622477800Z"
    }
   }
  },
  {
   "cell_type": "code",
   "execution_count": 8,
   "outputs": [],
   "source": [
    "transform = transforms.Compose([\n",
    "    transforms.ToTensor(),\n",
    "    transforms.Normalize((0.1307,), (0.3081,))  # Mean and standard deviation for MNIST\n",
    "])\n",
    "\n",
    "# Step 2: Load the MNIST dataset\n",
    "train_ds = MNIST(root='./data', train=True, download=True, transform=transform)\n",
    "val_ds = MNIST(root='./data', train=False, download=True, transform=transform)\n",
    "\n",
    "# Step 3: Create DataLoaders\n",
    "train_loader = DataLoader(dataset=train_ds, batch_size=64, shuffle=True)\n",
    "val_loader = DataLoader(dataset=val_ds, batch_size=64, shuffle=False)"
   ],
   "metadata": {
    "collapsed": false,
    "ExecuteTime": {
     "end_time": "2024-12-19T05:59:30.733015200Z",
     "start_time": "2024-12-19T05:59:30.685741600Z"
    }
   }
  },
  {
   "cell_type": "code",
   "execution_count": 9,
   "outputs": [
    {
     "data": {
      "text/plain": "torch.Size([1, 28, 28])"
     },
     "execution_count": 9,
     "metadata": {},
     "output_type": "execute_result"
    }
   ],
   "source": [
    "train_ds[0][0].shape"
   ],
   "metadata": {
    "collapsed": false,
    "ExecuteTime": {
     "end_time": "2024-12-19T05:59:30.773838800Z",
     "start_time": "2024-12-19T05:59:30.732013600Z"
    }
   }
  },
  {
   "cell_type": "code",
   "execution_count": 10,
   "outputs": [],
   "source": [
    "import torch.nn as nn\n",
    "import torch.nn.functional as F"
   ],
   "metadata": {
    "collapsed": false,
    "ExecuteTime": {
     "end_time": "2024-12-19T05:59:30.782434800Z",
     "start_time": "2024-12-19T05:59:30.749083100Z"
    }
   }
  },
  {
   "cell_type": "code",
   "execution_count": 11,
   "outputs": [],
   "source": [
    "class GarmentClassifier(nn.Module):\n",
    "  def __init__(self):\n",
    "    super(GarmentClassifier,self).__init__()\n",
    "    self.pool = nn.MaxPool2d(2, stride=2)\n",
    "    self.conv1 = nn.Conv2d(in_channels=1,out_channels=6,kernel_size=(3,3),padding=1)\n",
    "    self.batchnorm1 = nn.BatchNorm2d(6)\n",
    "    self.conv2 = nn.Conv2d(6, 16, kernel_size=(3,3),padding=1)\n",
    "    self.batchnorm2 = nn.BatchNorm2d(16)\n",
    "    self.conv3 = nn.Conv2d(16, 32, kernel_size=(3,3),padding=1)\n",
    "    self.batchnorm3 = nn.BatchNorm2d(32)\n",
    "    self.conv4 = nn.Conv2d(32, 64, kernel_size=(3,3),padding=1)\n",
    "    self.batchnorm4 = nn.BatchNorm2d(64)\n",
    "    self.fc1 = nn.Linear(64 * 1 * 1, 128)\n",
    "    self.batchnorm5 = nn.BatchNorm1d(128)\n",
    "    self.fc2 = nn.Linear(128, 128)\n",
    "    self.batchnorm6 = nn.BatchNorm1d(128)\n",
    "    self.fc3 = nn.Linear(128, 64)\n",
    "    self.batchnorm7 = nn.BatchNorm1d(64)\n",
    "    self.fc4 = nn.Linear(64, 32)\n",
    "    self.batchnorm8 = nn.BatchNorm1d(32)\n",
    "    self.fc5 = nn.Linear(32, 10)\n",
    "    self.dropout = nn.Dropout1d(0.1)\n",
    "  def forward(self,x):\n",
    "    x = self.pool(F.mish(self.batchnorm1(self.conv1(x))))\n",
    "    x = self.pool(F.mish(self.batchnorm2(self.conv2(x))))\n",
    "    x = self.pool(F.mish(self.batchnorm3(self.conv3(x))))\n",
    "    x = self.pool(F.mish(self.batchnorm4(self.conv4(x))))\n",
    "    x = x.view(-1, 64 * 1 * 1)\n",
    "    x = self.dropout(x)\n",
    "    x = F.leaky_relu(self.batchnorm5(self.fc1(x)))\n",
    "    x = F.leaky_relu(self.batchnorm6(self.fc2(x)))\n",
    "    x = F.leaky_relu(self.batchnorm7(self.fc3(x)))\n",
    "    x = F.leaky_relu(self.batchnorm8(self.fc4(x)))\n",
    "    x = self.fc5(x)\n",
    "    return x\n"
   ],
   "metadata": {
    "collapsed": false,
    "ExecuteTime": {
     "end_time": "2024-12-19T05:59:30.783432Z",
     "start_time": "2024-12-19T05:59:30.773838800Z"
    }
   }
  },
  {
   "cell_type": "code",
   "execution_count": 12,
   "outputs": [],
   "source": [
    "model = GarmentClassifier()\n",
    "model = model.to(device)"
   ],
   "metadata": {
    "collapsed": false,
    "ExecuteTime": {
     "end_time": "2024-12-19T05:59:30.885289500Z",
     "start_time": "2024-12-19T05:59:30.777082400Z"
    }
   }
  },
  {
   "cell_type": "code",
   "execution_count": 13,
   "outputs": [
    {
     "name": "stdout",
     "output_type": "stream",
     "text": [
      "----------------------------------------------------------------\n",
      "        Layer (type)               Output Shape         Param #\n",
      "================================================================\n",
      "            Conv2d-1            [-1, 6, 28, 28]              60\n",
      "       BatchNorm2d-2            [-1, 6, 28, 28]              12\n",
      "         MaxPool2d-3            [-1, 6, 14, 14]               0\n",
      "            Conv2d-4           [-1, 16, 14, 14]             880\n",
      "       BatchNorm2d-5           [-1, 16, 14, 14]              32\n",
      "         MaxPool2d-6             [-1, 16, 7, 7]               0\n",
      "            Conv2d-7             [-1, 32, 7, 7]           4,640\n",
      "       BatchNorm2d-8             [-1, 32, 7, 7]              64\n",
      "         MaxPool2d-9             [-1, 32, 3, 3]               0\n",
      "           Conv2d-10             [-1, 64, 3, 3]          18,496\n",
      "      BatchNorm2d-11             [-1, 64, 3, 3]             128\n",
      "        MaxPool2d-12             [-1, 64, 1, 1]               0\n",
      "        Dropout1d-13                   [-1, 64]               0\n",
      "           Linear-14                  [-1, 128]           8,320\n",
      "      BatchNorm1d-15                  [-1, 128]             256\n",
      "           Linear-16                  [-1, 128]          16,512\n",
      "      BatchNorm1d-17                  [-1, 128]             256\n",
      "           Linear-18                   [-1, 64]           8,256\n",
      "      BatchNorm1d-19                   [-1, 64]             128\n",
      "           Linear-20                   [-1, 32]           2,080\n",
      "      BatchNorm1d-21                   [-1, 32]              64\n",
      "           Linear-22                   [-1, 10]             330\n",
      "================================================================\n",
      "Total params: 60,514\n",
      "Trainable params: 60,514\n",
      "Non-trainable params: 0\n",
      "----------------------------------------------------------------\n",
      "Input size (MB): 0.00\n",
      "Forward/backward pass size (MB): 0.18\n",
      "Params size (MB): 0.23\n",
      "Estimated Total Size (MB): 0.41\n",
      "----------------------------------------------------------------\n"
     ]
    }
   ],
   "source": [
    "from torchsummary import summary\n",
    "summary(model, input_size=(1, 28, 28))"
   ],
   "metadata": {
    "collapsed": false,
    "ExecuteTime": {
     "end_time": "2024-12-19T05:59:31.155291500Z",
     "start_time": "2024-12-19T05:59:30.885289500Z"
    }
   }
  },
  {
   "cell_type": "code",
   "execution_count": 14,
   "outputs": [],
   "source": [
    "loss_fn = torch.nn.CrossEntropyLoss()\n",
    "optimizer = torch.optim.Adam(model.parameters(), lr=0.01)"
   ],
   "metadata": {
    "collapsed": false,
    "ExecuteTime": {
     "end_time": "2024-12-19T05:59:31.199322900Z",
     "start_time": "2024-12-19T05:59:31.157293Z"
    }
   }
  },
  {
   "cell_type": "code",
   "execution_count": 15,
   "outputs": [],
   "source": [
    "from furnance.metrics import Accuracy"
   ],
   "metadata": {
    "collapsed": false,
    "ExecuteTime": {
     "end_time": "2024-12-19T05:59:31.206325200Z",
     "start_time": "2024-12-19T05:59:31.172762800Z"
    }
   }
  },
  {
   "cell_type": "code",
   "execution_count": 16,
   "outputs": [],
   "source": [
    "accuracy = Accuracy(binary_output=False)"
   ],
   "metadata": {
    "collapsed": false,
    "ExecuteTime": {
     "end_time": "2024-12-19T05:59:31.206325200Z",
     "start_time": "2024-12-19T05:59:31.199322900Z"
    }
   }
  },
  {
   "cell_type": "code",
   "execution_count": 17,
   "outputs": [],
   "source": [
    "trainer = Trainer( model,\n",
    "                 criterion=loss_fn,\n",
    "                 input_shape=(1,28,28),\n",
    "                 optimizer=optimizer,\n",
    "                 display_time_elapsed=True,\n",
    "                 metrics=[accuracy],\n",
    "                 device=device)"
   ],
   "metadata": {
    "collapsed": false,
    "ExecuteTime": {
     "end_time": "2024-12-19T05:59:31.217323900Z",
     "start_time": "2024-12-19T05:59:31.203328Z"
    }
   }
  },
  {
   "cell_type": "code",
   "execution_count": 18,
   "outputs": [
    {
     "name": "stderr",
     "output_type": "stream",
     "text": [
      "EPOCH 4: : 938it [00:19, 49.15it/s]\n"
     ]
    },
    {
     "name": "stdout",
     "output_type": "stream",
     "text": [
      "--> Metrics:   accuracy: 0.8628 ,val_accuracy: 0.9706 ,loss: 0.4004 ,val_loss: 0.1008\n",
      "Time elapsed: 21.264612436294556 s\n"
     ]
    },
    {
     "name": "stderr",
     "output_type": "stream",
     "text": [
      "EPOCH 5: : 938it [00:20, 46.26it/s]\n"
     ]
    },
    {
     "name": "stdout",
     "output_type": "stream",
     "text": [
      "--> Metrics:   accuracy: 0.8924 ,val_accuracy: 0.9852 ,loss: 0.3009 ,val_loss: 0.0532\n",
      "Time elapsed: 44.02816867828369 s\n"
     ]
    },
    {
     "name": "stderr",
     "output_type": "stream",
     "text": [
      "EPOCH 6: : 938it [00:20, 44.91it/s]\n"
     ]
    },
    {
     "name": "stdout",
     "output_type": "stream",
     "text": [
      "--> Metrics:   accuracy: 0.8940 ,val_accuracy: 0.9861 ,loss: 0.2880 ,val_loss: 0.0529\n",
      "Time elapsed: 67.2394745349884 s\n"
     ]
    },
    {
     "name": "stderr",
     "output_type": "stream",
     "text": [
      "EPOCH 7: : 938it [00:22, 42.42it/s]\n"
     ]
    },
    {
     "name": "stdout",
     "output_type": "stream",
     "text": [
      "--> Metrics:   accuracy: 0.8990 ,val_accuracy: 0.9871 ,loss: 0.2733 ,val_loss: 0.0461\n",
      "Time elapsed: 91.65330219268799 s\n"
     ]
    },
    {
     "name": "stderr",
     "output_type": "stream",
     "text": [
      "EPOCH 8: : 938it [00:20, 44.91it/s]\n"
     ]
    },
    {
     "name": "stdout",
     "output_type": "stream",
     "text": [
      "--> Metrics:   accuracy: 0.8978 ,val_accuracy: 0.9873 ,loss: 0.2765 ,val_loss: 0.0421\n",
      "Time elapsed: 114.77780866622925 s\n"
     ]
    },
    {
     "name": "stderr",
     "output_type": "stream",
     "text": [
      "EPOCH 9: : 938it [00:20, 46.29it/s]\n"
     ]
    },
    {
     "name": "stdout",
     "output_type": "stream",
     "text": [
      "--> Metrics:   accuracy: 0.8981 ,val_accuracy: 0.9873 ,loss: 0.2733 ,val_loss: 0.0402\n",
      "Time elapsed: 137.4556782245636 s\n"
     ]
    },
    {
     "name": "stderr",
     "output_type": "stream",
     "text": [
      "EPOCH 10: : 938it [00:21, 44.64it/s]\n"
     ]
    },
    {
     "name": "stdout",
     "output_type": "stream",
     "text": [
      "--> Metrics:   accuracy: 0.9017 ,val_accuracy: 0.9873 ,loss: 0.2646 ,val_loss: 0.0433\n",
      "Time elapsed: 160.86755084991455 s\n"
     ]
    },
    {
     "name": "stderr",
     "output_type": "stream",
     "text": [
      "EPOCH 11: : 938it [00:20, 44.76it/s]\n"
     ]
    },
    {
     "name": "stdout",
     "output_type": "stream",
     "text": [
      "--> Metrics:   accuracy: 0.8999 ,val_accuracy: 0.9910 ,loss: 0.2667 ,val_loss: 0.0319\n",
      "Time elapsed: 184.1230273246765 s\n"
     ]
    },
    {
     "name": "stderr",
     "output_type": "stream",
     "text": [
      "EPOCH 12: : 938it [00:19, 47.35it/s]\n"
     ]
    },
    {
     "name": "stdout",
     "output_type": "stream",
     "text": [
      "--> Metrics:   accuracy: 0.9020 ,val_accuracy: 0.9896 ,loss: 0.2579 ,val_loss: 0.0320\n",
      "Time elapsed: 206.16465783119202 s\n"
     ]
    },
    {
     "name": "stderr",
     "output_type": "stream",
     "text": [
      "EPOCH 13: : 938it [00:21, 44.64it/s]\n"
     ]
    },
    {
     "name": "stdout",
     "output_type": "stream",
     "text": [
      "--> Metrics:   accuracy: 0.9013 ,val_accuracy: 0.9867 ,loss: 0.2622 ,val_loss: 0.0465\n",
      "Time elapsed: 229.38980722427368 s\n"
     ]
    }
   ],
   "source": [
    "history = trainer.fit(train_loader,val_loader, epochs=10, epoch_start=4)"
   ],
   "metadata": {
    "collapsed": false,
    "ExecuteTime": {
     "end_time": "2024-12-19T06:03:20.645472800Z",
     "start_time": "2024-12-19T05:59:31.220326400Z"
    }
   }
  },
  {
   "cell_type": "code",
   "execution_count": null,
   "outputs": [],
   "source": [],
   "metadata": {
    "collapsed": false
   }
  }
 ],
 "metadata": {
  "kernelspec": {
   "display_name": "Python 3",
   "language": "python",
   "name": "python3"
  },
  "language_info": {
   "codemirror_mode": {
    "name": "ipython",
    "version": 2
   },
   "file_extension": ".py",
   "mimetype": "text/x-python",
   "name": "python",
   "nbconvert_exporter": "python",
   "pygments_lexer": "ipython2",
   "version": "2.7.6"
  }
 },
 "nbformat": 4,
 "nbformat_minor": 0
}
